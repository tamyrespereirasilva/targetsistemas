{
 "cells": [
  {
   "cell_type": "markdown",
   "metadata": {},
   "source": [
    "1) Observe o trecho de código abaixo:\n",
    "\n",
    "int INDICE = 13, SOMA = 0, K = 0;\n",
    "\n",
    "enquanto K < INDICE faça\n",
    "\n",
    "{\n",
    "\n",
    "K = K + 1;\n",
    "\n",
    "SOMA = SOMA + K;\n",
    "\n",
    "}\n",
    "\n",
    "imprimir(SOMA);\n",
    "\n",
    "\n",
    "\n",
    "Ao final do processamento, qual será o valor da variável SOMA?"
   ]
  },
  {
   "cell_type": "code",
   "execution_count": 5,
   "metadata": {},
   "outputs": [
    {
     "name": "stdout",
     "output_type": "stream",
     "text": [
      "1\n",
      "3\n",
      "6\n",
      "10\n",
      "15\n",
      "21\n",
      "28\n",
      "36\n",
      "45\n",
      "55\n",
      "66\n",
      "78\n",
      "91\n"
     ]
    }
   ],
   "source": [
    "indice = 13\n",
    "soma = 0\n",
    "k = 0\n",
    "\n",
    "while k < indice:\n",
    "    k += 1\n",
    "    soma = soma + k\n",
    "    print(soma)"
   ]
  },
  {
   "cell_type": "markdown",
   "metadata": {},
   "source": [
    "2) Dado a sequência de Fibonacci, onde se inicia por 0 e 1 e o próximo valor sempre será a soma dos 2 valores anteriores (exemplo: 0, 1, 1, 2, 3, 5, 8, 13, 21, 34...), escreva um programa na linguagem que desejar onde, informado um número, ele calcule a sequência de Fibonacci e retorne uma mensagem avisando se o número informado pertence ou não a sequência.\n",
    "\n",
    "IMPORTANTE:\n",
    "Esse número pode ser informado através de qualquer entrada de sua preferência ou pode ser previamente definido no código."
   ]
  },
  {
   "cell_type": "code",
   "execution_count": 11,
   "metadata": {},
   "outputs": [
    {
     "name": "stdout",
     "output_type": "stream",
     "text": [
      "Pertence a sequencia\n"
     ]
    }
   ],
   "source": [
    "def main():\n",
    "    intInput = int(input(\"Digite um numero:\"))\n",
    "\n",
    "    num0, num1, num2 = 0, 1, 1\n",
    "    \n",
    "    if intInput in set([num0, num1, num2]):\n",
    "        print(\"Pertence a sequencia\")\n",
    "\n",
    "    while num0 < intInput:\n",
    "        num0 = num1 + num2\n",
    "        num2 = num1\n",
    "        num1 = num0\n",
    "\n",
    "    if num0 == intInput:\n",
    "        print(\"Pertence a sequencia\")\n",
    "    else:\n",
    "        print(\"Não pertence a sequencia\")\n",
    "\n",
    "main()"
   ]
  },
  {
   "cell_type": "markdown",
   "metadata": {},
   "source": [
    "3) Descubra a lógica e complete o próximo elemento:\n",
    "\n",
    "\n",
    "\n",
    "a) 1, 3, 5, 7, 9;\n",
    "b) 2, 4, 8, 16, 32, 64, 128;\n",
    "c) 0, 1, 4, 9, 16, 25, 36, 49; \n",
    "d) 4, 16, 36, 64, 100;\n",
    "e) 1, 1, 2, 3, 5, 8, 13;\n",
    "f) 2, 10, 12, 16, 17, 18, 19, 20;"
   ]
  },
  {
   "cell_type": "markdown",
   "metadata": {},
   "source": [
    "4) Você está em uma sala com três interruptores, cada um conectado a uma lâmpada em uma sala diferente. Você não pode ver as lâmpadas da sala em que está, mas pode ligar e desligar os interruptores quantas vezes quiser. Seu objetivo é descobrir qual interruptor controla qual lâmpada.\n",
    "\n",
    "Como você faria para descobrir, usando apenas duas idas até uma das salas das lâmpadas, qual interruptor controla cada lâmpada?\n",
    "\n",
    "Ligaria o primeiro interruptor e desligaria após alguns minutos;\n",
    "Ligaria o segundo interruptor e iria até a sala 1: Caso a luz estivesse apagada, tocaria a lâmpada pra checar a temperatura. Caso quente ou morna, saberia se o primeiro interruptor estaria conectado a ela. Caso estivesse acesa, logicamente o segundo interruptor estaria conectado a ela.\n",
    "Voltaria a sala inicial e ligaria o terceiro interruptor, iria até a sala 2 e repetiria o processo de checar a temperatura da lâmpada."
   ]
  },
  {
   "cell_type": "markdown",
   "metadata": {},
   "source": [
    "5) Escreva um programa que inverta os caracteres de um string.\n",
    "IMPORTANTE:\n",
    "\n",
    "a) Essa string pode ser informada através de qualquer entrada de sua preferência ou pode ser previamente definida no código;\n",
    "b) Evite usar funções prontas, como, por exemplo, reverse;"
   ]
  },
  {
   "cell_type": "code",
   "execution_count": 10,
   "metadata": {},
   "outputs": [
    {
     "name": "stdout",
     "output_type": "stream",
     "text": [
      "A palavra invertida é: etalocohc\n"
     ]
    }
   ],
   "source": [
    "def main():\n",
    "    strInput = input(\"Digite a palavra: \")\n",
    "\n",
    "    start, end = 0, len(strInput)-1\n",
    "\n",
    "    while start < end:\n",
    "        temp = strInput[end]\n",
    "        strInput = strInput[:end] + strInput[start] + strInput[end+1:]\n",
    "        strInput = strInput[:start] + temp + strInput[start+1:]\n",
    "        start+=1\n",
    "        end-=1\n",
    "\n",
    "    print(f\"A palavra invertida é: {strInput}\")\n",
    "\n",
    "main()"
   ]
  }
 ],
 "metadata": {
  "kernelspec": {
   "display_name": "Python 3",
   "language": "python",
   "name": "python3"
  },
  "language_info": {
   "codemirror_mode": {
    "name": "ipython",
    "version": 3
   },
   "file_extension": ".py",
   "mimetype": "text/x-python",
   "name": "python",
   "nbconvert_exporter": "python",
   "pygments_lexer": "ipython3",
   "version": "3.11.4"
  }
 },
 "nbformat": 4,
 "nbformat_minor": 2
}
